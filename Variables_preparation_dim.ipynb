{
 "cells": [
  {
   "cell_type": "code",
   "execution_count": 1,
   "id": "593d265c-39b5-495e-a9dd-fb173db00378",
   "metadata": {},
   "outputs": [],
   "source": [
    "%load_ext autoreload\n",
    "%autoreload 2"
   ]
  },
  {
   "cell_type": "code",
   "execution_count": 2,
   "id": "d2c68fcf-17af-4e98-bdc9-1678a09d8674",
   "metadata": {
    "tags": []
   },
   "outputs": [],
   "source": [
    "from datetime import datetime\n",
    "\n",
    "import matplotlib\n",
    "import numpy as np\n",
    "import pandas as pd\n",
    "import seaborn as sns\n",
    "import xarray as xr\n",
    "from matplotlib import cm\n",
    "from matplotlib import pyplot as plt\n",
    "from Turbulence_processing.Scaling import *"
   ]
  },
  {
   "cell_type": "markdown",
   "id": "87f10d37-d913-47da-a2e7-2d62ef66ef8a",
   "metadata": {},
   "source": [
    "## open data"
   ]
  },
  {
   "cell_type": "code",
   "execution_count": 4,
   "id": "9c9fdff8-a899-4e48-853f-bc67e71d4488",
   "metadata": {},
   "outputs": [],
   "source": [
    "path = \"../../../../Dataset/MetCrax/\"\n",
    "ds = xr.open_dataset(path + \"MetCrax_full_30min.nc\")\n",
    "ds_low = xr.open_dataset(path + \"MetCrax_lowfreq_30min.nc\")"
   ]
  },
  {
   "cell_type": "code",
   "execution_count": 5,
   "id": "048fb26f-6f14-4b8f-bf3e-7223332db467",
   "metadata": {},
   "outputs": [],
   "source": [
    "# BLH\n",
    "BLH = xr.open_dataset(path + \"Analysis/MetCrax_BLH_ERA5.nc\")\n",
    "BLH = BLH.blh"
   ]
  },
  {
   "cell_type": "markdown",
   "id": "d6d7a436-fd9c-4085-9384-7cfc7f99f82a",
   "metadata": {},
   "source": [
    "## select daytime"
   ]
  },
  {
   "cell_type": "code",
   "execution_count": 7,
   "id": "ef2a2af5-4bbf-400d-b67b-c5a29ba7f33f",
   "metadata": {},
   "outputs": [],
   "source": [
    "def select_times(ds):\n",
    "    # in UTC time\n",
    "    hour = ds.time.dt.hour\n",
    "    day = (hour >= 15) & (hour <= 23)\n",
    "    night = (hour >= 1) & (hour <= 14)\n",
    "    return night, day"
   ]
  },
  {
   "cell_type": "code",
   "execution_count": 8,
   "id": "585cb51b-51c5-4590-87e3-53950fd8f0f9",
   "metadata": {},
   "outputs": [],
   "source": [
    "# select daytime\n",
    "ds = ds.where(select_times(ds)[1], drop=True)\n",
    "ds_low = ds_low.where(select_times(ds_low)[1], drop=True)\n",
    "BLH = BLH.where(select_times(BLH)[1], drop=True)"
   ]
  },
  {
   "cell_type": "markdown",
   "id": "793c2ae8-d19d-433a-87d6-7a487b5aadaa",
   "metadata": {},
   "source": [
    "## add scaled variables"
   ]
  },
  {
   "cell_type": "code",
   "execution_count": 10,
   "id": "b155c917-f679-4b01-8e0c-9d1387c2fccc",
   "metadata": {},
   "outputs": [],
   "source": [
    "ds = Gradients_Anisotropy.Anisotropy_calculation(ds, RGB=False)\n",
    "\n",
    "ds = Gradients_Anisotropy.Gradients_calculation_splines_1ds(\n",
    "    ds, ds_low, roughness_length=0.02\n",
    ")"
   ]
  },
  {
   "cell_type": "code",
   "execution_count": 11,
   "id": "f760a289-4bed-46d2-a514-36f46801938e",
   "metadata": {},
   "outputs": [],
   "source": [
    "ds = ds.assign(\n",
    "    # Boundary Layer Height\n",
    "    BLH=BLH,\n",
    "    # tke and stress budget\n",
    "    # transport\n",
    "    dz_wtke=ds.wtke.differentiate(coord=\"heights\"),\n",
    "    # production\n",
    "    tkeprod_shear=ds.uw * ds.gradU,\n",
    "    tkeprod_buoy=9.81 / ds.meanT * ds.wT,\n",
    "    # turbulent diffusion\n",
    "    dz_uuw=ds.uuw.differentiate(coord=\"heights\"),\n",
    "    dz_uvw=ds.uvw.differentiate(coord=\"heights\"),\n",
    "    dz_uww=ds.uww.differentiate(coord=\"heights\"),\n",
    "    dz_vvw=ds.vvw.differentiate(coord=\"heights\"),\n",
    "    dz_vww=ds.vww.differentiate(coord=\"heights\"),\n",
    "    dz_www=ds.www.differentiate(coord=\"heights\"),\n",
    ")"
   ]
  },
  {
   "cell_type": "code",
   "execution_count": 12,
   "id": "3c7820c5-a91b-4b33-b81a-70da35c0afbe",
   "metadata": {
    "tags": []
   },
   "outputs": [],
   "source": [
    "ds = ds.drop(\n",
    "    [\n",
    "        \"StatU\",\n",
    "        \"StatUW\",\n",
    "        \"StatWT\",\n",
    "        \"uu\",\n",
    "        \"vv\",\n",
    "        \"ww\",\n",
    "        \"uv\",\n",
    "        \"uw\",\n",
    "        \"vw\",\n",
    "        \"xb\",\n",
    "        \"LLJ\",\n",
    "        \"uuu\",\n",
    "        \"vvv\",\n",
    "        \"www\",\n",
    "        \"TTT\",\n",
    "        \"uuuu\",\n",
    "        \"vvvv\",\n",
    "        \"wwww\",\n",
    "        \"TTTT\",\n",
    "        \"epsV\",\n",
    "        \"epsW\",\n",
    "        \"epsT\",\n",
    "        \"epsUsf\",\n",
    "        \"epsVsf\",\n",
    "        \"epsWsf\",\n",
    "        \"slopeHU\",\n",
    "        \"slopeHV\",\n",
    "        \"slopeHW\",\n",
    "        \"slopeHT\",\n",
    "        \"slopeHUsf\",\n",
    "        \"uwT\",\n",
    "        \"vwT\",\n",
    "        \"wwT\",\n",
    "        \"uTT\",\n",
    "        \"vTT\",\n",
    "        \"wTT\",\n",
    "        \"slopeHVsf\",\n",
    "        \"slopeHWsf\",\n",
    "        \"Ri\",\n",
    "        \"Rif\",\n",
    "        \"uuv\",\n",
    "        \"uvv\",\n",
    "        \"uuw\",\n",
    "        \"uww\",\n",
    "        \"uvw\",\n",
    "        \"vvu\",\n",
    "        \"vvw\",\n",
    "        \"vww\",\n",
    "        \"utke\",\n",
    "        \"vtke\",\n",
    "        \"wtke\",\n",
    "        \"cutoff\",\n",
    "        \"cutoffW\",\n",
    "        \"StatV\",\n",
    "        \"StatW\",\n",
    "        \"StatT\",\n",
    "        \"StatVW\",\n",
    "        \"StatUT\",\n",
    "        \"StatVT\",\n",
    "    ]\n",
    ")"
   ]
  },
  {
   "cell_type": "code",
   "execution_count": 22,
   "id": "2523f208-aff4-43e2-8a5f-faa6bfe53bc8",
   "metadata": {
    "tags": []
   },
   "outputs": [
    {
     "data": {
      "text/plain": [
       "['meanT',\n",
       " 'meanU',\n",
       " 'dir',\n",
       " 'TT',\n",
       " 'uT',\n",
       " 'vT',\n",
       " 'wT',\n",
       " 'ustar',\n",
       " 'tke',\n",
       " 'slopeLW',\n",
       " 'slopeLU',\n",
       " 'epsU',\n",
       " 'slopeLV',\n",
       " 'slopeLT',\n",
       " 'intlenU',\n",
       " 'intlenV',\n",
       " 'intlenW',\n",
       " 'yb',\n",
       " 'gradU',\n",
       " 'gradT',\n",
       " 'BLH',\n",
       " 'dz_wtke',\n",
       " 'tkeprod_shear',\n",
       " 'tkeprod_buoy',\n",
       " 'dz_uuw',\n",
       " 'dz_uvw',\n",
       " 'dz_uww',\n",
       " 'dz_vvw',\n",
       " 'dz_vww',\n",
       " 'dz_www']"
      ]
     },
     "execution_count": 22,
     "metadata": {},
     "output_type": "execute_result"
    }
   ],
   "source": [
    "list(ds.data_vars)"
   ]
  },
  {
   "cell_type": "markdown",
   "id": "8bea996b-a491-41ae-a53d-56fa34966c44",
   "metadata": {},
   "source": [
    "### merge and save"
   ]
  },
  {
   "cell_type": "code",
   "execution_count": 24,
   "id": "822903c8-fd80-40ca-ab6e-35110b4bbdf4",
   "metadata": {},
   "outputs": [],
   "source": [
    "ds.to_netcdf(\"Metcrax_forest_data.nc\")"
   ]
  },
  {
   "cell_type": "markdown",
   "id": "81914834-2bba-4c6d-a62c-9556f33b5ad7",
   "metadata": {},
   "source": [
    "## pass to pandas and select groups\n",
    "selected for test 8may B1 middle clouds, 23 may S3 clear sky and 11 june W3 clear sky"
   ]
  },
  {
   "cell_type": "code",
   "execution_count": 27,
   "id": "a0b724f4-f62f-4eb8-87b2-445dbbbdb746",
   "metadata": {},
   "outputs": [],
   "source": [
    "ds = xr.open_dataset(\"Metcrax_forest_data.nc\")"
   ]
  },
  {
   "cell_type": "code",
   "execution_count": 29,
   "id": "2414627f-c6b2-460d-b132-4f2b9ccc1209",
   "metadata": {},
   "outputs": [],
   "source": [
    "# stack ds\n",
    "ds = (\n",
    "    ds.stack(index=(\"time\", \"heights\"))\n",
    "    .reset_index(\"index\")\n",
    "    .dropna(dim=\"index\", how=\"any\")\n",
    ")"
   ]
  },
  {
   "cell_type": "code",
   "execution_count": 30,
   "id": "9f304bb5-1ade-48f7-bda6-8c9c5f73bd91",
   "metadata": {},
   "outputs": [],
   "source": [
    "# hour that starts the day\n",
    "day_start = 14\n",
    "\n",
    "# Define group labels\n",
    "dates = pd.to_datetime(ds.time)\n",
    "groups = (\n",
    "    dates\n",
    "    - pd.to_datetime(datetime(dates[0].year, dates[0].month, dates[0].day, day_start))\n",
    ").days\n",
    "\n",
    "ds = ds.assign(groups=([\"index\"], groups + 1))\n",
    "\n",
    "# test group\n",
    "test_groups = [7, 22]\n",
    "\n",
    "# split\n",
    "train_bool = np.invert(np.isin(groups, test_groups))\n",
    "groups_train = groups[train_bool]\n",
    "ds_train = ds.where(train_bool).dropna(dim=\"index\")\n",
    "ds_test = ds.where(np.invert(train_bool)).dropna(dim=\"index\")"
   ]
  },
  {
   "cell_type": "code",
   "execution_count": 32,
   "id": "a09094bb-987a-471a-984c-476a5a52c4af",
   "metadata": {},
   "outputs": [],
   "source": [
    "# Pandas\n",
    "vars = list(ds.data_vars)\n",
    "vars.remove(\"yb\")\n",
    "X_train = ds_train.to_dataframe()[vars]\n",
    "y_train = ds_train.to_dataframe()[\"yb\"]\n",
    "X_test = ds_test.to_dataframe()[vars]\n",
    "y_test = ds_test.to_dataframe()[\"yb\"]\n",
    "\n",
    "\n",
    "# drop groups where not necessary\n",
    "X_test = X_test.drop(columns=\"groups\")"
   ]
  },
  {
   "cell_type": "code",
   "execution_count": 34,
   "id": "4eb395a6-9e51-4fb3-9ea4-663e48bfde7a",
   "metadata": {},
   "outputs": [],
   "source": [
    "# save\n",
    "X_train.to_csv(\"xtrain.csv\")\n",
    "y_train.to_csv(\"ytrain.csv\")\n",
    "X_test.to_csv(\"xtest.csv\")\n",
    "y_test.to_csv(\"ytest.csv\")"
   ]
  },
  {
   "cell_type": "code",
   "execution_count": 36,
   "id": "4194fabc-d63e-4e01-9e34-b5d1f76dfef1",
   "metadata": {},
   "outputs": [],
   "source": [
    "# X_train = pd.read_csv(\"./xtrain.csv\", index_col=0)\n",
    "# y_train = pd.read_csv(\"./ytrain.csv\", index_col=0)\n",
    "# X_test = pd.read_csv(\"./xtest.csv\", index_col=0)\n",
    "# y_test = pd.read_csv(\"./ytest.csv\", index_col=0)\n",
    "# groups = X_train['groups']\n",
    "# X_train = X_train.drop(columns='groups')"
   ]
  },
  {
   "cell_type": "code",
   "execution_count": null,
   "id": "5087b1ea-7ddc-4f1d-a6e9-167587fe41e7",
   "metadata": {},
   "outputs": [],
   "source": []
  },
  {
   "cell_type": "code",
   "execution_count": null,
   "id": "32e340f9-87c3-4b25-a9d4-534294faf5c1",
   "metadata": {},
   "outputs": [],
   "source": []
  }
 ],
 "metadata": {
  "kernelspec": {
   "display_name": "Python 3 (ipykernel)",
   "language": "python",
   "name": "python3"
  },
  "language_info": {
   "codemirror_mode": {
    "name": "ipython",
    "version": 3
   },
   "file_extension": ".py",
   "mimetype": "text/x-python",
   "name": "python",
   "nbconvert_exporter": "python",
   "pygments_lexer": "ipython3",
   "version": "3.10.13"
  }
 },
 "nbformat": 4,
 "nbformat_minor": 5
}
